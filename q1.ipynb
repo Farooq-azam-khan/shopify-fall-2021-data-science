{
 "cells": [
  {
   "cell_type": "code",
   "execution_count": 1,
   "id": "e8cc453b-fc3f-4bb8-804d-c5c3728783a0",
   "metadata": {},
   "outputs": [],
   "source": [
    "import pandas as pd\n",
    "import seaborn as sns\n",
    "sns.set_theme(style=\"whitegrid\")"
   ]
  },
  {
   "cell_type": "markdown",
   "id": "0c79cd4e-8792-469d-9c93-558235350966",
   "metadata": {},
   "source": [
    "# Question 1"
   ]
  },
  {
   "cell_type": "markdown",
   "id": "d4063c3b-d9dd-4ec3-b229-3776f52402ae",
   "metadata": {},
   "source": [
    "## a. Think about what could be going wrong with our calculation. Think about a better way to evaluate this data. "
   ]
  },
  {
   "cell_type": "code",
   "execution_count": 2,
   "id": "5741a488-ac08-4726-a590-60d7919b1199",
   "metadata": {},
   "outputs": [],
   "source": [
    "df = pd.read_csv('2019 Winter Data Science Intern Challenge Data Set.csv')\n",
    "df['created_at'] = pd.to_datetime(df['created_at'])"
   ]
  },
  {
   "cell_type": "code",
   "execution_count": 7,
   "id": "4c9846ad-5810-40b6-ad49-8329f28ea3d5",
   "metadata": {},
   "outputs": [
    {
     "data": {
      "text/html": [
       "<div>\n",
       "<style scoped>\n",
       "    .dataframe tbody tr th:only-of-type {\n",
       "        vertical-align: middle;\n",
       "    }\n",
       "\n",
       "    .dataframe tbody tr th {\n",
       "        vertical-align: top;\n",
       "    }\n",
       "\n",
       "    .dataframe thead th {\n",
       "        text-align: right;\n",
       "    }\n",
       "</style>\n",
       "<table border=\"1\" class=\"dataframe\">\n",
       "  <thead>\n",
       "    <tr style=\"text-align: right;\">\n",
       "      <th></th>\n",
       "      <th>order_amount</th>\n",
       "      <th>total_items</th>\n",
       "    </tr>\n",
       "  </thead>\n",
       "  <tbody>\n",
       "    <tr>\n",
       "      <th>count</th>\n",
       "      <td>5000.000000</td>\n",
       "      <td>5000.00000</td>\n",
       "    </tr>\n",
       "    <tr>\n",
       "      <th>mean</th>\n",
       "      <td>3145.128000</td>\n",
       "      <td>8.78720</td>\n",
       "    </tr>\n",
       "    <tr>\n",
       "      <th>std</th>\n",
       "      <td>41282.539349</td>\n",
       "      <td>116.32032</td>\n",
       "    </tr>\n",
       "    <tr>\n",
       "      <th>min</th>\n",
       "      <td>90.000000</td>\n",
       "      <td>1.00000</td>\n",
       "    </tr>\n",
       "    <tr>\n",
       "      <th>25%</th>\n",
       "      <td>163.000000</td>\n",
       "      <td>1.00000</td>\n",
       "    </tr>\n",
       "    <tr>\n",
       "      <th>50%</th>\n",
       "      <td>284.000000</td>\n",
       "      <td>2.00000</td>\n",
       "    </tr>\n",
       "    <tr>\n",
       "      <th>75%</th>\n",
       "      <td>390.000000</td>\n",
       "      <td>3.00000</td>\n",
       "    </tr>\n",
       "    <tr>\n",
       "      <th>max</th>\n",
       "      <td>704000.000000</td>\n",
       "      <td>2000.00000</td>\n",
       "    </tr>\n",
       "  </tbody>\n",
       "</table>\n",
       "</div>"
      ],
      "text/plain": [
       "        order_amount  total_items\n",
       "count    5000.000000   5000.00000\n",
       "mean     3145.128000      8.78720\n",
       "std     41282.539349    116.32032\n",
       "min        90.000000      1.00000\n",
       "25%       163.000000      1.00000\n",
       "50%       284.000000      2.00000\n",
       "75%       390.000000      3.00000\n",
       "max    704000.000000   2000.00000"
      ]
     },
     "execution_count": 7,
     "metadata": {},
     "output_type": "execute_result"
    }
   ],
   "source": [
    "df[['order_amount', 'total_items']].describe()"
   ]
  },
  {
   "cell_type": "markdown",
   "id": "1348f27a-5644-4e84-bdff-5fdbf5adfa80",
   "metadata": {},
   "source": [
    "The AOV was naively calculated from the datatset. It is the `mean` of the `order_amount` column; moreover, the standard deviation also seems to be very high. This indicates that there are outliers skewing the data to be higher than it actually is. The Boxplot of the naive data show that exact fact below."
   ]
  },
  {
   "cell_type": "code",
   "execution_count": 8,
   "id": "bf220ca4-48f5-4fa9-9172-389b0483b5ca",
   "metadata": {},
   "outputs": [
    {
     "data": {
      "text/plain": [
       "<AxesSubplot:xlabel='order_amount'>"
      ]
     },
     "execution_count": 8,
     "metadata": {},
     "output_type": "execute_result"
    },
    {
     "data": {
      "image/png": "[encoded data removed]",
      "text/plain": [
       "<Figure size 432x288 with 1 Axes>"
      ]
     },
     "metadata": {},
     "output_type": "display_data"
    }
   ],
   "source": [
    "sns.boxplot(x=df['order_amount'])"
   ]
  },
  {
   "cell_type": "markdown",
   "id": "f9d0f3a6-bd82-4446-af0d-37220d7e2ed3",
   "metadata": {},
   "source": [
    "Let's sort the data based on the order_amount to see how the outliers are behaving. They seem to be skewed to a higher price point on the number line. "
   ]
  },
  {
   "cell_type": "code",
   "execution_count": 9,
   "id": "62f0afcc-0cfb-4338-b171-1a078e44c6aa",
   "metadata": {},
   "outputs": [
    {
     "data": {
      "text/html": [
       "<div>\n",
       "<style scoped>\n",
       "    .dataframe tbody tr th:only-of-type {\n",
       "        vertical-align: middle;\n",
       "    }\n",
       "\n",
       "    .dataframe tbody tr th {\n",
       "        vertical-align: top;\n",
       "    }\n",
       "\n",
       "    .dataframe thead th {\n",
       "        text-align: right;\n",
       "    }\n",
       "</style>\n",
       "<table border=\"1\" class=\"dataframe\">\n",
       "  <thead>\n",
       "    <tr style=\"text-align: right;\">\n",
       "      <th></th>\n",
       "      <th>order_id</th>\n",
       "      <th>shop_id</th>\n",
       "      <th>user_id</th>\n",
       "      <th>order_amount</th>\n",
       "      <th>total_items</th>\n",
       "      <th>payment_method</th>\n",
       "      <th>created_at</th>\n",
       "    </tr>\n",
       "  </thead>\n",
       "  <tbody>\n",
       "    <tr>\n",
       "      <th>2835</th>\n",
       "      <td>2836</td>\n",
       "      <td>42</td>\n",
       "      <td>607</td>\n",
       "      <td>704000</td>\n",
       "      <td>2000</td>\n",
       "      <td>credit_card</td>\n",
       "      <td>2017-03-28 04:00:00</td>\n",
       "    </tr>\n",
       "    <tr>\n",
       "      <th>2969</th>\n",
       "      <td>2970</td>\n",
       "      <td>42</td>\n",
       "      <td>607</td>\n",
       "      <td>704000</td>\n",
       "      <td>2000</td>\n",
       "      <td>credit_card</td>\n",
       "      <td>2017-03-28 04:00:00</td>\n",
       "    </tr>\n",
       "    <tr>\n",
       "      <th>4056</th>\n",
       "      <td>4057</td>\n",
       "      <td>42</td>\n",
       "      <td>607</td>\n",
       "      <td>704000</td>\n",
       "      <td>2000</td>\n",
       "      <td>credit_card</td>\n",
       "      <td>2017-03-28 04:00:00</td>\n",
       "    </tr>\n",
       "    <tr>\n",
       "      <th>4882</th>\n",
       "      <td>4883</td>\n",
       "      <td>42</td>\n",
       "      <td>607</td>\n",
       "      <td>704000</td>\n",
       "      <td>2000</td>\n",
       "      <td>credit_card</td>\n",
       "      <td>2017-03-25 04:00:00</td>\n",
       "    </tr>\n",
       "    <tr>\n",
       "      <th>1104</th>\n",
       "      <td>1105</td>\n",
       "      <td>42</td>\n",
       "      <td>607</td>\n",
       "      <td>704000</td>\n",
       "      <td>2000</td>\n",
       "      <td>credit_card</td>\n",
       "      <td>2017-03-24 04:00:00</td>\n",
       "    </tr>\n",
       "    <tr>\n",
       "      <th>3332</th>\n",
       "      <td>3333</td>\n",
       "      <td>42</td>\n",
       "      <td>607</td>\n",
       "      <td>704000</td>\n",
       "      <td>2000</td>\n",
       "      <td>credit_card</td>\n",
       "      <td>2017-03-24 04:00:00</td>\n",
       "    </tr>\n",
       "    <tr>\n",
       "      <th>4868</th>\n",
       "      <td>4869</td>\n",
       "      <td>42</td>\n",
       "      <td>607</td>\n",
       "      <td>704000</td>\n",
       "      <td>2000</td>\n",
       "      <td>credit_card</td>\n",
       "      <td>2017-03-22 04:00:00</td>\n",
       "    </tr>\n",
       "    <tr>\n",
       "      <th>1562</th>\n",
       "      <td>1563</td>\n",
       "      <td>42</td>\n",
       "      <td>607</td>\n",
       "      <td>704000</td>\n",
       "      <td>2000</td>\n",
       "      <td>credit_card</td>\n",
       "      <td>2017-03-19 04:00:00</td>\n",
       "    </tr>\n",
       "    <tr>\n",
       "      <th>1602</th>\n",
       "      <td>1603</td>\n",
       "      <td>42</td>\n",
       "      <td>607</td>\n",
       "      <td>704000</td>\n",
       "      <td>2000</td>\n",
       "      <td>credit_card</td>\n",
       "      <td>2017-03-17 04:00:00</td>\n",
       "    </tr>\n",
       "    <tr>\n",
       "      <th>1362</th>\n",
       "      <td>1363</td>\n",
       "      <td>42</td>\n",
       "      <td>607</td>\n",
       "      <td>704000</td>\n",
       "      <td>2000</td>\n",
       "      <td>credit_card</td>\n",
       "      <td>2017-03-15 04:00:00</td>\n",
       "    </tr>\n",
       "    <tr>\n",
       "      <th>2153</th>\n",
       "      <td>2154</td>\n",
       "      <td>42</td>\n",
       "      <td>607</td>\n",
       "      <td>704000</td>\n",
       "      <td>2000</td>\n",
       "      <td>credit_card</td>\n",
       "      <td>2017-03-12 04:00:00</td>\n",
       "    </tr>\n",
       "    <tr>\n",
       "      <th>1436</th>\n",
       "      <td>1437</td>\n",
       "      <td>42</td>\n",
       "      <td>607</td>\n",
       "      <td>704000</td>\n",
       "      <td>2000</td>\n",
       "      <td>credit_card</td>\n",
       "      <td>2017-03-11 04:00:00</td>\n",
       "    </tr>\n",
       "    <tr>\n",
       "      <th>15</th>\n",
       "      <td>16</td>\n",
       "      <td>42</td>\n",
       "      <td>607</td>\n",
       "      <td>704000</td>\n",
       "      <td>2000</td>\n",
       "      <td>credit_card</td>\n",
       "      <td>2017-03-07 04:00:00</td>\n",
       "    </tr>\n",
       "    <tr>\n",
       "      <th>2297</th>\n",
       "      <td>2298</td>\n",
       "      <td>42</td>\n",
       "      <td>607</td>\n",
       "      <td>704000</td>\n",
       "      <td>2000</td>\n",
       "      <td>credit_card</td>\n",
       "      <td>2017-03-07 04:00:00</td>\n",
       "    </tr>\n",
       "    <tr>\n",
       "      <th>60</th>\n",
       "      <td>61</td>\n",
       "      <td>42</td>\n",
       "      <td>607</td>\n",
       "      <td>704000</td>\n",
       "      <td>2000</td>\n",
       "      <td>credit_card</td>\n",
       "      <td>2017-03-04 04:00:00</td>\n",
       "    </tr>\n",
       "    <tr>\n",
       "      <th>520</th>\n",
       "      <td>521</td>\n",
       "      <td>42</td>\n",
       "      <td>607</td>\n",
       "      <td>704000</td>\n",
       "      <td>2000</td>\n",
       "      <td>credit_card</td>\n",
       "      <td>2017-03-02 04:00:00</td>\n",
       "    </tr>\n",
       "    <tr>\n",
       "      <th>4646</th>\n",
       "      <td>4647</td>\n",
       "      <td>42</td>\n",
       "      <td>607</td>\n",
       "      <td>704000</td>\n",
       "      <td>2000</td>\n",
       "      <td>credit_card</td>\n",
       "      <td>2017-03-02 04:00:00</td>\n",
       "    </tr>\n",
       "    <tr>\n",
       "      <th>691</th>\n",
       "      <td>692</td>\n",
       "      <td>78</td>\n",
       "      <td>878</td>\n",
       "      <td>154350</td>\n",
       "      <td>6</td>\n",
       "      <td>debit</td>\n",
       "      <td>2017-03-27 22:51:43</td>\n",
       "    </tr>\n",
       "    <tr>\n",
       "      <th>2492</th>\n",
       "      <td>2493</td>\n",
       "      <td>78</td>\n",
       "      <td>834</td>\n",
       "      <td>102900</td>\n",
       "      <td>4</td>\n",
       "      <td>debit</td>\n",
       "      <td>2017-03-04 04:37:34</td>\n",
       "    </tr>\n",
       "    <tr>\n",
       "      <th>1259</th>\n",
       "      <td>1260</td>\n",
       "      <td>78</td>\n",
       "      <td>775</td>\n",
       "      <td>77175</td>\n",
       "      <td>3</td>\n",
       "      <td>credit_card</td>\n",
       "      <td>2017-03-27 09:27:20</td>\n",
       "    </tr>\n",
       "  </tbody>\n",
       "</table>\n",
       "</div>"
      ],
      "text/plain": [
       "      order_id  shop_id  user_id  order_amount  total_items payment_method  \\\n",
       "2835      2836       42      607        704000         2000    credit_card   \n",
       "2969      2970       42      607        704000         2000    credit_card   \n",
       "4056      4057       42      607        704000         2000    credit_card   \n",
       "4882      4883       42      607        704000         2000    credit_card   \n",
       "1104      1105       42      607        704000         2000    credit_card   \n",
       "3332      3333       42      607        704000         2000    credit_card   \n",
       "4868      4869       42      607        704000         2000    credit_card   \n",
       "1562      1563       42      607        704000         2000    credit_card   \n",
       "1602      1603       42      607        704000         2000    credit_card   \n",
       "1362      1363       42      607        704000         2000    credit_card   \n",
       "2153      2154       42      607        704000         2000    credit_card   \n",
       "1436      1437       42      607        704000         2000    credit_card   \n",
       "15          16       42      607        704000         2000    credit_card   \n",
       "2297      2298       42      607        704000         2000    credit_card   \n",
       "60          61       42      607        704000         2000    credit_card   \n",
       "520        521       42      607        704000         2000    credit_card   \n",
       "4646      4647       42      607        704000         2000    credit_card   \n",
       "691        692       78      878        154350            6          debit   \n",
       "2492      2493       78      834        102900            4          debit   \n",
       "1259      1260       78      775         77175            3    credit_card   \n",
       "\n",
       "              created_at  \n",
       "2835 2017-03-28 04:00:00  \n",
       "2969 2017-03-28 04:00:00  \n",
       "4056 2017-03-28 04:00:00  \n",
       "4882 2017-03-25 04:00:00  \n",
       "1104 2017-03-24 04:00:00  \n",
       "3332 2017-03-24 04:00:00  \n",
       "4868 2017-03-22 04:00:00  \n",
       "1562 2017-03-19 04:00:00  \n",
       "1602 2017-03-17 04:00:00  \n",
       "1362 2017-03-15 04:00:00  \n",
       "2153 2017-03-12 04:00:00  \n",
       "1436 2017-03-11 04:00:00  \n",
       "15   2017-03-07 04:00:00  \n",
       "2297 2017-03-07 04:00:00  \n",
       "60   2017-03-04 04:00:00  \n",
       "520  2017-03-02 04:00:00  \n",
       "4646 2017-03-02 04:00:00  \n",
       "691  2017-03-27 22:51:43  \n",
       "2492 2017-03-04 04:37:34  \n",
       "1259 2017-03-27 09:27:20  "
      ]
     },
     "execution_count": 9,
     "metadata": {},
     "output_type": "execute_result"
    }
   ],
   "source": [
    "df.sort_values(by=['order_amount', 'created_at'], ascending=False).head(20)"
   ]
  },
  {
   "cell_type": "markdown",
   "id": "0f957aea-f5f8-450c-b5fd-8b2988c6cc44",
   "metadata": {},
   "source": [
    "As we can see in the above table:\n",
    "- one user bulk ordered shoes from the same store multiple times (via credit card)\n",
    "- many of these bulk orders were carried out on the same day. \n",
    "- Simply removing these outliers with the Inter-Quantile-Range should suffice. "
   ]
  },
  {
   "cell_type": "code",
   "execution_count": 11,
   "id": "f4f6e059-acee-4354-8053-5ab162a07b90",
   "metadata": {},
   "outputs": [],
   "source": [
    "removed_outliers = df['order_amount'].between(df['order_amount'].quantile(0.25), df['order_amount'].quantile(0.75))"
   ]
  },
  {
   "cell_type": "code",
   "execution_count": 12,
   "id": "1a35951f-625d-4678-9bb8-e14282b32bde",
   "metadata": {},
   "outputs": [
    {
     "data": {
      "text/plain": [
       "<AxesSubplot:xlabel='order_amount'>"
      ]
     },
     "execution_count": 12,
     "metadata": {},
     "output_type": "execute_result"
    },
    {
     "data": {
      "image/png": "[encoded data removed]",
      "text/plain": [
       "<Figure size 432x288 with 1 Axes>"
      ]
     },
     "metadata": {},
     "output_type": "display_data"
    }
   ],
   "source": [
    "sns.boxplot(x=df[removed_outliers]['order_amount'])"
   ]
  },
  {
   "cell_type": "markdown",
   "id": "2779a3dc-e34b-4744-8a81-ef73dfd675be",
   "metadata": {},
   "source": [
    "Using the Inter Quantile Range (IQR) to filter the outliers provided for a much cleaner distribution."
   ]
  },
  {
   "cell_type": "code",
   "execution_count": 15,
   "id": "f317f88c-ec27-45d4-bcb3-1c17036aa89b",
   "metadata": {},
   "outputs": [
    {
     "data": {
      "text/html": [
       "<div>\n",
       "<style scoped>\n",
       "    .dataframe tbody tr th:only-of-type {\n",
       "        vertical-align: middle;\n",
       "    }\n",
       "\n",
       "    .dataframe tbody tr th {\n",
       "        vertical-align: top;\n",
       "    }\n",
       "\n",
       "    .dataframe thead th {\n",
       "        text-align: right;\n",
       "    }\n",
       "</style>\n",
       "<table border=\"1\" class=\"dataframe\">\n",
       "  <thead>\n",
       "    <tr style=\"text-align: right;\">\n",
       "      <th></th>\n",
       "      <th>order_amount</th>\n",
       "      <th>total_items</th>\n",
       "    </tr>\n",
       "  </thead>\n",
       "  <tbody>\n",
       "    <tr>\n",
       "      <th>count</th>\n",
       "      <td>2537.000000</td>\n",
       "      <td>2537.000000</td>\n",
       "    </tr>\n",
       "    <tr>\n",
       "      <th>mean</th>\n",
       "      <td>275.181317</td>\n",
       "      <td>1.838392</td>\n",
       "    </tr>\n",
       "    <tr>\n",
       "      <th>std</th>\n",
       "      <td>67.901112</td>\n",
       "      <td>0.534216</td>\n",
       "    </tr>\n",
       "    <tr>\n",
       "      <th>min</th>\n",
       "      <td>163.000000</td>\n",
       "      <td>1.000000</td>\n",
       "    </tr>\n",
       "    <tr>\n",
       "      <th>25%</th>\n",
       "      <td>222.000000</td>\n",
       "      <td>2.000000</td>\n",
       "    </tr>\n",
       "    <tr>\n",
       "      <th>50%</th>\n",
       "      <td>284.000000</td>\n",
       "      <td>2.000000</td>\n",
       "    </tr>\n",
       "    <tr>\n",
       "      <th>75%</th>\n",
       "      <td>328.000000</td>\n",
       "      <td>2.000000</td>\n",
       "    </tr>\n",
       "    <tr>\n",
       "      <th>max</th>\n",
       "      <td>390.000000</td>\n",
       "      <td>4.000000</td>\n",
       "    </tr>\n",
       "  </tbody>\n",
       "</table>\n",
       "</div>"
      ],
      "text/plain": [
       "       order_amount  total_items\n",
       "count   2537.000000  2537.000000\n",
       "mean     275.181317     1.838392\n",
       "std       67.901112     0.534216\n",
       "min      163.000000     1.000000\n",
       "25%      222.000000     2.000000\n",
       "50%      284.000000     2.000000\n",
       "75%      328.000000     2.000000\n",
       "max      390.000000     4.000000"
      ]
     },
     "execution_count": 15,
     "metadata": {},
     "output_type": "execute_result"
    }
   ],
   "source": [
    "df[removed_outliers][['order_amount', 'total_items']].describe()"
   ]
  },
  {
   "cell_type": "markdown",
   "id": "8db2e41d-c5d0-405b-97ce-a6b74ec0644d",
   "metadata": {},
   "source": [
    "The new AOV is $275.18. This value seems much more appropriate for relatively affordable shoes."
   ]
  },
  {
   "cell_type": "markdown",
   "id": "8e8be926-72bc-496a-b82c-810c3593bbd1",
   "metadata": {},
   "source": [
    "## b/c. What metric would you report for this dataset? / What is its value?\n",
    "\n",
    "I would use the median (i.e. 50% quantile) of the data to get a better estimate of the average order value. Event with the outliers, it had a stable value of $284.00."
   ]
  }
 ],
 "metadata": {
  "kernelspec": {
   "display_name": "Python 3",
   "language": "python",
   "name": "python3"
  },
  "language_info": {
   "codemirror_mode": {
    "name": "ipython",
    "version": 3
   },
   "file_extension": ".py",
   "mimetype": "text/x-python",
   "name": "python",
   "nbconvert_exporter": "python",
   "pygments_lexer": "ipython3",
   "version": "3.8.0"
  }
 },
 "nbformat": 4,
 "nbformat_minor": 5
}
